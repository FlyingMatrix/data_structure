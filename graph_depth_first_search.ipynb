{
 "cells": [
  {
   "cell_type": "code",
   "execution_count": 1,
   "metadata": {},
   "outputs": [],
   "source": [
    "# Print depth first search (DFS) traversal from a given graph\n",
    "from collections import defaultdict\n",
    "\n",
    "class Graph:\n",
    "    def __init__(self):\n",
    "        self.graph = defaultdict(list) # {key, value} -> {node: [edges]}\n",
    "\n",
    "    # Function to add an edge to graph\n",
    "    def addEdge(self, node, edge):\n",
    "        self.graph[node].append(edge)\n",
    " \n",
    "    # A function used by DFS\n",
    "    def DFSUtil(self, node, visited):\n",
    "\n",
    "        # Mark the current node as visited and print it\n",
    "        visited.add(node) # visited is a hashset\n",
    "        print(node, end=' ')\n",
    " \n",
    "        # Recur for all the nodes adjacent to this node\n",
    "        for neighbour in self.graph[node]:\n",
    "            if neighbour not in visited:\n",
    "                self.DFSUtil(neighbour, visited)\n",
    " \n",
    "    # Do DFS traversal using recursive DFSUtil()\n",
    "    def DFS(self, node): # node is the default starting node\n",
    " \n",
    "        visited = set()\n",
    "        self.DFSUtil(node, visited)"
   ]
  },
  {
   "cell_type": "code",
   "execution_count": 2,
   "metadata": {},
   "outputs": [
    {
     "name": "stdout",
     "output_type": "stream",
     "text": [
      "2 0 1 3 "
     ]
    }
   ],
   "source": [
    "if __name__ == \"__main__\":\n",
    "    \n",
    "    g = Graph()\n",
    "    g.addEdge(0, 1)\n",
    "    g.addEdge(0, 2)\n",
    "    g.addEdge(1, 2)\n",
    "    g.addEdge(2, 0)\n",
    "    g.addEdge(2, 3)\n",
    "    g.addEdge(3, 3)\n",
    "    # g = {0: [1, 2], 1: [2], 2: [0, 3], 3: [3]}\n",
    " \n",
    "    g.DFS(2) # 2 is the default starting node"
   ]
  },
  {
   "cell_type": "code",
   "execution_count": null,
   "metadata": {},
   "outputs": [],
   "source": [
    "# Time complexity: O(N + E), where N is the number of nodes and E is the number of edges in the graph.\n",
    "# Space complexity: O(N + E), since an extra visited array of size N is required, and stack size for iterative call to DFS function."
   ]
  }
 ],
 "metadata": {
  "kernelspec": {
   "display_name": "pytorch",
   "language": "python",
   "name": "python3"
  },
  "language_info": {
   "codemirror_mode": {
    "name": "ipython",
    "version": 3
   },
   "file_extension": ".py",
   "mimetype": "text/x-python",
   "name": "python",
   "nbconvert_exporter": "python",
   "pygments_lexer": "ipython3",
   "version": "3.9.12"
  }
 },
 "nbformat": 4,
 "nbformat_minor": 2
}
